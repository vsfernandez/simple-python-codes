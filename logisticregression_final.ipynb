{
 "cells": [
  {
   "cell_type": "code",
   "execution_count": 11,
   "metadata": {},
   "outputs": [],
   "source": [
    "import numpy as np \n",
    "import pandas as pd \n",
    "from numpy import array\n",
    "from numpy import argmax\n",
    "\n",
    "import matplotlib.pyplot as plt\n",
    "import seaborn as sns\n",
    "%matplotlib inline\n",
    "\n",
    "df1 = pd.read_csv(r'C:\\Users\\Admin\\Autism_Data_Adolescent_Manual_Weka_Attrconverted.csv',na_values='?')"
   ]
  },
  {
   "cell_type": "code",
   "execution_count": 12,
   "metadata": {},
   "outputs": [
    {
     "data": {
      "text/html": [
       "<div>\n",
       "<style scoped>\n",
       "    .dataframe tbody tr th:only-of-type {\n",
       "        vertical-align: middle;\n",
       "    }\n",
       "\n",
       "    .dataframe tbody tr th {\n",
       "        vertical-align: top;\n",
       "    }\n",
       "\n",
       "    .dataframe thead th {\n",
       "        text-align: right;\n",
       "    }\n",
       "</style>\n",
       "<table border=\"1\" class=\"dataframe\">\n",
       "  <thead>\n",
       "    <tr style=\"text-align: right;\">\n",
       "      <th></th>\n",
       "      <th>A3</th>\n",
       "      <th>A6</th>\n",
       "      <th>A4</th>\n",
       "      <th>A5</th>\n",
       "      <th>A7</th>\n",
       "      <th>Age</th>\n",
       "      <th>Sex</th>\n",
       "      <th>Ethnicity</th>\n",
       "      <th>Jaundice</th>\n",
       "      <th>Family_ASD</th>\n",
       "      <th>ASD_class</th>\n",
       "    </tr>\n",
       "  </thead>\n",
       "  <tbody>\n",
       "    <tr>\n",
       "      <th>0</th>\n",
       "      <td>0</td>\n",
       "      <td>0</td>\n",
       "      <td>1</td>\n",
       "      <td>0</td>\n",
       "      <td>1</td>\n",
       "      <td>15</td>\n",
       "      <td>0</td>\n",
       "      <td>0</td>\n",
       "      <td>0</td>\n",
       "      <td>0</td>\n",
       "      <td>NO</td>\n",
       "    </tr>\n",
       "    <tr>\n",
       "      <th>1</th>\n",
       "      <td>1</td>\n",
       "      <td>1</td>\n",
       "      <td>1</td>\n",
       "      <td>0</td>\n",
       "      <td>1</td>\n",
       "      <td>15</td>\n",
       "      <td>0</td>\n",
       "      <td>1</td>\n",
       "      <td>0</td>\n",
       "      <td>0</td>\n",
       "      <td>NO</td>\n",
       "    </tr>\n",
       "    <tr>\n",
       "      <th>2</th>\n",
       "      <td>1</td>\n",
       "      <td>1</td>\n",
       "      <td>0</td>\n",
       "      <td>1</td>\n",
       "      <td>1</td>\n",
       "      <td>15</td>\n",
       "      <td>1</td>\n",
       "      <td>1</td>\n",
       "      <td>0</td>\n",
       "      <td>1</td>\n",
       "      <td>YES</td>\n",
       "    </tr>\n",
       "    <tr>\n",
       "      <th>3</th>\n",
       "      <td>1</td>\n",
       "      <td>1</td>\n",
       "      <td>1</td>\n",
       "      <td>1</td>\n",
       "      <td>1</td>\n",
       "      <td>16</td>\n",
       "      <td>1</td>\n",
       "      <td>2</td>\n",
       "      <td>0</td>\n",
       "      <td>0</td>\n",
       "      <td>YES</td>\n",
       "    </tr>\n",
       "    <tr>\n",
       "      <th>4</th>\n",
       "      <td>1</td>\n",
       "      <td>1</td>\n",
       "      <td>1</td>\n",
       "      <td>1</td>\n",
       "      <td>1</td>\n",
       "      <td>15</td>\n",
       "      <td>1</td>\n",
       "      <td>3</td>\n",
       "      <td>0</td>\n",
       "      <td>0</td>\n",
       "      <td>YES</td>\n",
       "    </tr>\n",
       "  </tbody>\n",
       "</table>\n",
       "</div>"
      ],
      "text/plain": [
       "   A3  A6  A4  A5  A7  Age  Sex  Ethnicity  Jaundice  Family_ASD ASD_class\n",
       "0   0   0   1   0   1   15    0          0         0           0        NO\n",
       "1   1   1   1   0   1   15    0          1         0           0        NO\n",
       "2   1   1   0   1   1   15    1          1         0           1       YES\n",
       "3   1   1   1   1   1   16    1          2         0           0       YES\n",
       "4   1   1   1   1   1   15    1          3         0           0       YES"
      ]
     },
     "execution_count": 12,
     "metadata": {},
     "output_type": "execute_result"
    }
   ],
   "source": [
    "#process only top 5 from chi2 with individual features\n",
    "data= pd.concat([df1['A3'],df1['A6'],df1['A4'],df1['A5'],df1['A7'],df1['Age'],df1['Sex'],df1['Ethnicity'],df1['Jaundice'],df1['Family_ASD'],df1['Class']],axis=1)\n",
    "data.columns=['A3','A6','A4','A5','A7','Age','Sex','Ethnicity','Jaundice','Family_ASD','ASD_class']\n",
    "data.head()"
   ]
  },
  {
   "cell_type": "code",
   "execution_count": 47,
   "metadata": {},
   "outputs": [
    {
     "data": {
      "text/plain": [
       "LogisticRegression(C=1.0, class_weight=None, dual=False, fit_intercept=True,\n",
       "          intercept_scaling=1, max_iter=100, multi_class='ovr', n_jobs=1,\n",
       "          penalty='l2', random_state=None, solver='liblinear', tol=0.0001,\n",
       "          verbose=0, warm_start=False)"
      ]
     },
     "execution_count": 47,
     "metadata": {},
     "output_type": "execute_result"
    }
   ],
   "source": [
    "#method 1: logistic regression\n",
    "\n",
    "from sklearn.model_selection import train_test_split\n",
    "X= data.iloc[:,:-1]\n",
    "y= data.iloc[:,-1]\n",
    "\n",
    "X_train,X_test,y_train,y_test = train_test_split(X,y,test_size=0.2,random_state=101)\n",
    "\n",
    "from sklearn.preprocessing import StandardScaler\n",
    "sc = StandardScaler()\n",
    "X_train = sc.fit_transform(X_train)\n",
    "X_test = sc.transform(X_test)\n",
    "\n",
    "from sklearn.linear_model import LogisticRegression\n",
    "logmodel= LogisticRegression()\n",
    "logmodel.fit(X_train,y_train)"
   ]
  },
  {
   "cell_type": "code",
   "execution_count": 48,
   "metadata": {},
   "outputs": [
    {
     "name": "stdout",
     "output_type": "stream",
     "text": [
      "{'C': 0.001}\n"
     ]
    },
    {
     "data": {
      "text/plain": [
       "LogisticRegression(C=0.001, class_weight=None, dual=False, fit_intercept=True,\n",
       "          intercept_scaling=1, max_iter=100, multi_class='ovr', n_jobs=1,\n",
       "          penalty='l2', random_state=None, solver='liblinear', tol=0.0001,\n",
       "          verbose=0, warm_start=False)"
      ]
     },
     "execution_count": 48,
     "metadata": {},
     "output_type": "execute_result"
    }
   ],
   "source": [
    "from sklearn.model_selection import GridSearchCV\n",
    "param_grid = {'C': [0.001,0.01,0.1,1,10,100,1000,10000]}\n",
    "grid_log = GridSearchCV(LogisticRegression(),param_grid,scoring='accuracy',refit=True,cv=None)\n",
    "\n",
    "grid_log.fit(X_train,y_train)\n",
    "\n",
    "best_parameters = grid_log.best_params_\n",
    "print(best_parameters)\n",
    "\n",
    "grid_log.best_estimator_"
   ]
  },
  {
   "cell_type": "code",
   "execution_count": 49,
   "metadata": {},
   "outputs": [
    {
     "data": {
      "text/plain": [
       "55      NO\n",
       "245    YES\n",
       "98      NO\n",
       "150    YES\n",
       "89      NO\n",
       "90     YES\n",
       "160    YES\n",
       "208    YES\n",
       "142     NO\n",
       "177     NO\n",
       "196     NO\n",
       "88      NO\n",
       "32      NO\n",
       "41      NO\n",
       "222     NO\n",
       "109    YES\n",
       "236    YES\n",
       "125    YES\n",
       "219     NO\n",
       "4      YES\n",
       "193    YES\n",
       "80     YES\n",
       "118     NO\n",
       "218     NO\n",
       "148     NO\n",
       "69     YES\n",
       "93      NO\n",
       "175    YES\n",
       "134     NO\n",
       "78     YES\n",
       "213    YES\n",
       "158    YES\n",
       "112    YES\n",
       "147    YES\n",
       "34      NO\n",
       "96     YES\n",
       "154    YES\n",
       "37      NO\n",
       "215     NO\n",
       "15      NO\n",
       "12      NO\n",
       "104     NO\n",
       "161    YES\n",
       "108     NO\n",
       "31      NO\n",
       "200     NO\n",
       "35      NO\n",
       "48      NO\n",
       "85      NO\n",
       "207    YES\n",
       "Name: ASD_class, dtype: object"
      ]
     },
     "execution_count": 49,
     "metadata": {},
     "output_type": "execute_result"
    }
   ],
   "source": [
    "y_test"
   ]
  },
  {
   "cell_type": "code",
   "execution_count": 50,
   "metadata": {},
   "outputs": [
    {
     "data": {
      "text/plain": [
       "array([[-1.227326  ,  0.73950997, -1.32287566,  0.6751906 , -0.91287093,\n",
       "        -0.72011669,  0.95070824,  0.7537137 , -0.40583972, -0.47938884],\n",
       "       [ 0.81477945,  0.73950997,  0.75592895,  0.6751906 ,  1.09544512,\n",
       "        -0.72011669, -1.05184741,  0.7537137 , -0.40583972, -0.47938884],\n",
       "       [ 0.81477945,  0.73950997,  0.75592895, -1.48106326, -0.91287093,\n",
       "        -0.72011669, -1.05184741, -1.64043571, -0.40583972, -0.47938884],\n",
       "       [ 0.81477945,  0.73950997,  0.75592895,  0.6751906 , -0.91287093,\n",
       "        -1.38952094, -1.05184741, -1.64043571,  2.4640269 ,  2.0859893 ],\n",
       "       [ 0.81477945, -1.35224681, -1.32287566,  0.6751906 , -0.91287093,\n",
       "         0.6186918 , -1.05184741, -0.8423859 , -0.40583972, -0.47938884],\n",
       "       [ 0.81477945,  0.73950997,  0.75592895,  0.6751906 ,  1.09544512,\n",
       "         0.6186918 ,  0.95070824,  0.7537137 , -0.40583972, -0.47938884],\n",
       "       [ 0.81477945,  0.73950997,  0.75592895,  0.6751906 , -0.91287093,\n",
       "         1.28809605, -1.05184741, -1.64043571, -0.40583972, -0.47938884],\n",
       "       [ 0.81477945,  0.73950997,  0.75592895,  0.6751906 ,  1.09544512,\n",
       "         0.6186918 ,  0.95070824,  0.7537137 , -0.40583972, -0.47938884],\n",
       "       [ 0.81477945,  0.73950997, -1.32287566, -1.48106326, -0.91287093,\n",
       "        -0.72011669, -1.05184741,  0.7537137 , -0.40583972, -0.47938884],\n",
       "       [-1.227326  , -1.35224681, -1.32287566, -1.48106326, -0.91287093,\n",
       "         0.6186918 ,  0.95070824,  0.7537137 , -0.40583972, -0.47938884],\n",
       "       [-1.227326  , -1.35224681, -1.32287566,  0.6751906 , -0.91287093,\n",
       "        -0.72011669, -1.05184741,  0.7537137 , -0.40583972, -0.47938884],\n",
       "       [-1.227326  , -1.35224681,  0.75592895,  0.6751906 ,  1.09544512,\n",
       "         1.28809605, -1.05184741,  0.3546888 , -0.40583972, -0.47938884],\n",
       "       [-1.227326  , -1.35224681, -1.32287566, -1.48106326, -0.91287093,\n",
       "        -0.05071244,  0.95070824, -1.2414108 , -0.40583972, -0.47938884],\n",
       "       [-1.227326  , -1.35224681, -1.32287566, -1.48106326, -0.91287093,\n",
       "         0.6186918 ,  0.95070824,  0.7537137 , -0.40583972, -0.47938884],\n",
       "       [-1.227326  , -1.35224681, -1.32287566,  0.6751906 , -0.91287093,\n",
       "        -1.38952094, -1.05184741,  0.3546888 , -0.40583972, -0.47938884],\n",
       "       [ 0.81477945,  0.73950997,  0.75592895,  0.6751906 ,  1.09544512,\n",
       "         1.28809605, -1.05184741, -0.8423859 , -0.40583972, -0.47938884],\n",
       "       [-1.227326  ,  0.73950997,  0.75592895,  0.6751906 ,  1.09544512,\n",
       "        -1.38952094, -1.05184741,  0.7537137 , -0.40583972, -0.47938884],\n",
       "       [ 0.81477945,  0.73950997,  0.75592895,  0.6751906 , -0.91287093,\n",
       "        -1.38952094, -1.05184741,  0.7537137 , -0.40583972, -0.47938884],\n",
       "       [-1.227326  , -1.35224681, -1.32287566, -1.48106326, -0.91287093,\n",
       "        -0.72011669,  0.95070824,  0.7537137 , -0.40583972, -0.47938884],\n",
       "       [ 0.81477945,  0.73950997,  0.75592895,  0.6751906 ,  1.09544512,\n",
       "         0.6186918 ,  0.95070824, -0.443361  , -0.40583972, -0.47938884],\n",
       "       [ 0.81477945,  0.73950997,  0.75592895,  0.6751906 , -0.91287093,\n",
       "        -0.72011669,  0.95070824,  0.7537137 , -0.40583972, -0.47938884],\n",
       "       [ 0.81477945,  0.73950997,  0.75592895,  0.6751906 ,  1.09544512,\n",
       "         0.6186918 ,  0.95070824, -0.0443361 , -0.40583972, -0.47938884],\n",
       "       [ 0.81477945,  0.73950997, -1.32287566,  0.6751906 ,  1.09544512,\n",
       "         1.28809605, -1.05184741,  0.7537137 , -0.40583972, -0.47938884],\n",
       "       [ 0.81477945, -1.35224681,  0.75592895, -1.48106326, -0.91287093,\n",
       "         0.6186918 ,  0.95070824,  0.7537137 , -0.40583972,  2.0859893 ],\n",
       "       [-1.227326  , -1.35224681,  0.75592895,  0.6751906 , -0.91287093,\n",
       "        -0.72011669,  0.95070824,  0.7537137 , -0.40583972, -0.47938884],\n",
       "       [ 0.81477945,  0.73950997,  0.75592895,  0.6751906 , -0.91287093,\n",
       "        -1.38952094,  0.95070824,  1.1527386 , -0.40583972, -0.47938884],\n",
       "       [-1.227326  , -1.35224681,  0.75592895, -1.48106326, -0.91287093,\n",
       "         0.6186918 , -1.05184741, -1.2414108 , -0.40583972, -0.47938884],\n",
       "       [ 0.81477945,  0.73950997,  0.75592895,  0.6751906 , -0.91287093,\n",
       "         0.6186918 , -1.05184741,  0.7537137 , -0.40583972, -0.47938884],\n",
       "       [-1.227326  ,  0.73950997, -1.32287566,  0.6751906 , -0.91287093,\n",
       "         1.28809605, -1.05184741, -0.443361  , -0.40583972, -0.47938884],\n",
       "       [ 0.81477945,  0.73950997,  0.75592895,  0.6751906 ,  1.09544512,\n",
       "        -0.05071244,  0.95070824,  1.1527386 , -0.40583972, -0.47938884],\n",
       "       [ 0.81477945,  0.73950997,  0.75592895,  0.6751906 , -0.91287093,\n",
       "        -1.38952094,  0.95070824,  1.1527386 , -0.40583972, -0.47938884],\n",
       "       [-1.227326  ,  0.73950997,  0.75592895,  0.6751906 ,  1.09544512,\n",
       "        -0.05071244,  0.95070824,  0.7537137 ,  2.4640269 , -0.47938884],\n",
       "       [ 0.81477945,  0.73950997,  0.75592895,  0.6751906 ,  1.09544512,\n",
       "         1.28809605,  0.95070824,  0.7537137 , -0.40583972, -0.47938884],\n",
       "       [-1.227326  ,  0.73950997,  0.75592895,  0.6751906 ,  1.09544512,\n",
       "        -1.38952094,  0.95070824,  0.7537137 , -0.40583972, -0.47938884],\n",
       "       [-1.227326  , -1.35224681, -1.32287566, -1.48106326, -0.91287093,\n",
       "        -0.05071244,  0.95070824, -1.2414108 , -0.40583972, -0.47938884],\n",
       "       [ 0.81477945,  0.73950997, -1.32287566,  0.6751906 ,  1.09544512,\n",
       "        -1.38952094,  0.95070824, -0.0443361 , -0.40583972, -0.47938884],\n",
       "       [ 0.81477945,  0.73950997,  0.75592895,  0.6751906 , -0.91287093,\n",
       "         0.6186918 ,  0.95070824,  0.7537137 , -0.40583972, -0.47938884],\n",
       "       [ 0.81477945,  0.73950997,  0.75592895, -1.48106326,  1.09544512,\n",
       "        -0.05071244,  0.95070824, -0.0443361 , -0.40583972, -0.47938884],\n",
       "       [ 0.81477945, -1.35224681,  0.75592895,  0.6751906 ,  1.09544512,\n",
       "        -1.38952094, -1.05184741,  1.1527386 , -0.40583972, -0.47938884],\n",
       "       [-1.227326  , -1.35224681, -1.32287566, -1.48106326, -0.91287093,\n",
       "         0.6186918 , -1.05184741,  0.3546888 , -0.40583972, -0.47938884],\n",
       "       [-1.227326  ,  0.73950997,  0.75592895,  0.6751906 ,  1.09544512,\n",
       "        -1.38952094, -1.05184741, -0.8423859 ,  2.4640269 ,  2.0859893 ],\n",
       "       [-1.227326  , -1.35224681, -1.32287566, -1.48106326, -0.91287093,\n",
       "         0.6186918 ,  0.95070824,  0.3546888 , -0.40583972, -0.47938884],\n",
       "       [ 0.81477945,  0.73950997,  0.75592895,  0.6751906 ,  1.09544512,\n",
       "        -0.72011669, -1.05184741,  0.7537137 ,  2.4640269 ,  2.0859893 ],\n",
       "       [-1.227326  , -1.35224681, -1.32287566, -1.48106326,  1.09544512,\n",
       "         1.28809605, -1.05184741, -0.8423859 , -0.40583972, -0.47938884],\n",
       "       [-1.227326  , -1.35224681, -1.32287566, -1.48106326, -0.91287093,\n",
       "         0.6186918 , -1.05184741,  0.7537137 ,  2.4640269 ,  2.0859893 ],\n",
       "       [-1.227326  ,  0.73950997, -1.32287566, -1.48106326,  1.09544512,\n",
       "        -1.38952094, -1.05184741,  1.1527386 , -0.40583972,  2.0859893 ],\n",
       "       [ 0.81477945,  0.73950997,  0.75592895, -1.48106326,  1.09544512,\n",
       "        -0.05071244,  0.95070824, -1.2414108 , -0.40583972, -0.47938884],\n",
       "       [-1.227326  , -1.35224681, -1.32287566,  0.6751906 , -0.91287093,\n",
       "         0.6186918 ,  0.95070824, -1.2414108 , -0.40583972, -0.47938884],\n",
       "       [-1.227326  ,  0.73950997, -1.32287566,  0.6751906 , -0.91287093,\n",
       "        -0.72011669,  0.95070824,  1.1527386 ,  2.4640269 ,  2.0859893 ],\n",
       "       [ 0.81477945,  0.73950997,  0.75592895, -1.48106326,  1.09544512,\n",
       "        -1.38952094,  0.95070824,  0.7537137 ,  2.4640269 , -0.47938884]])"
      ]
     },
     "execution_count": 50,
     "metadata": {},
     "output_type": "execute_result"
    }
   ],
   "source": [
    "X_test"
   ]
  },
  {
   "cell_type": "code",
   "execution_count": 51,
   "metadata": {},
   "outputs": [
    {
     "name": "stdout",
     "output_type": "stream",
     "text": [
      "[[23  5]\n",
      " [ 0 22]]\n",
      "             precision    recall  f1-score   support\n",
      "\n",
      "         NO       1.00      0.82      0.90        28\n",
      "        YES       0.81      1.00      0.90        22\n",
      "\n",
      "avg / total       0.92      0.90      0.90        50\n",
      "\n",
      "Accuracy: 0.9\n"
     ]
    },
    {
     "data": {
      "image/png": "[encoded data removed]",
      "text/plain": [
       "<Figure size 432x288 with 2 Axes>"
      ]
     },
     "metadata": {},
     "output_type": "display_data"
    }
   ],
   "source": [
    "from sklearn.metrics import classification_report,confusion_matrix\n",
    "from sklearn.metrics import accuracy_score\n",
    "\n",
    "pred_log=grid_log.predict(X_test)\n",
    "\n",
    "print(confusion_matrix(y_test,pred_log))\n",
    "print(classification_report(y_test,pred_log))\n",
    "\n",
    "cm = confusion_matrix(y_test, pred_log)\n",
    "\n",
    "import seaborn as sns\n",
    "sns.heatmap(cm,annot=True)\n",
    "plt.savefig('h.png')\n",
    "\n",
    "acc = accuracy_score(y_test, pred_log)\n",
    "print(\"Accuracy: \"+ str(acc))\n"
   ]
  },
  {
   "cell_type": "code",
   "execution_count": 52,
   "metadata": {},
   "outputs": [
    {
     "data": {
      "text/plain": [
       "array(['NO', 'YES', 'NO', 'YES', 'NO', 'YES', 'YES', 'YES', 'NO', 'NO',\n",
       "       'NO', 'NO', 'NO', 'NO', 'NO', 'YES', 'YES', 'YES', 'NO', 'YES',\n",
       "       'YES', 'YES', 'YES', 'NO', 'NO', 'YES', 'NO', 'YES', 'NO', 'YES',\n",
       "       'YES', 'YES', 'YES', 'YES', 'NO', 'YES', 'YES', 'YES', 'YES', 'NO',\n",
       "       'YES', 'NO', 'YES', 'NO', 'NO', 'NO', 'YES', 'NO', 'NO', 'YES'],\n",
       "      dtype=object)"
      ]
     },
     "execution_count": 52,
     "metadata": {},
     "output_type": "execute_result"
    }
   ],
   "source": [
    "pred_log"
   ]
  },
  {
   "cell_type": "code",
   "execution_count": null,
   "metadata": {},
   "outputs": [],
   "source": []
  },
  {
   "cell_type": "code",
   "execution_count": null,
   "metadata": {},
   "outputs": [],
   "source": []
  },
  {
   "cell_type": "code",
   "execution_count": null,
   "metadata": {},
   "outputs": [],
   "source": []
  },
  {
   "cell_type": "code",
   "execution_count": null,
   "metadata": {},
   "outputs": [],
   "source": []
  },
  {
   "cell_type": "code",
   "execution_count": null,
   "metadata": {},
   "outputs": [],
   "source": []
  },
  {
   "cell_type": "code",
   "execution_count": null,
   "metadata": {},
   "outputs": [],
   "source": []
  },
  {
   "cell_type": "code",
   "execution_count": null,
   "metadata": {},
   "outputs": [],
   "source": []
  },
  {
   "cell_type": "code",
   "execution_count": null,
   "metadata": {},
   "outputs": [],
   "source": []
  },
  {
   "cell_type": "code",
   "execution_count": null,
   "metadata": {},
   "outputs": [],
   "source": []
  },
  {
   "cell_type": "code",
   "execution_count": null,
   "metadata": {},
   "outputs": [],
   "source": []
  },
  {
   "cell_type": "code",
   "execution_count": null,
   "metadata": {},
   "outputs": [],
   "source": []
  },
  {
   "cell_type": "code",
   "execution_count": null,
   "metadata": {},
   "outputs": [],
   "source": []
  },
  {
   "cell_type": "code",
   "execution_count": null,
   "metadata": {},
   "outputs": [],
   "source": []
  },
  {
   "cell_type": "code",
   "execution_count": 42,
   "metadata": {},
   "outputs": [],
   "source": []
  },
  {
   "cell_type": "code",
   "execution_count": null,
   "metadata": {},
   "outputs": [],
   "source": []
  },
  {
   "cell_type": "code",
   "execution_count": null,
   "metadata": {},
   "outputs": [],
   "source": []
  },
  {
   "cell_type": "code",
   "execution_count": null,
   "metadata": {},
   "outputs": [],
   "source": []
  }
 ],
 "metadata": {
  "kernelspec": {
   "display_name": "Python 3",
   "language": "python",
   "name": "python3"
  },
  "language_info": {
   "codemirror_mode": {
    "name": "ipython",
    "version": 3
   },
   "file_extension": ".py",
   "mimetype": "text/x-python",
   "name": "python",
   "nbconvert_exporter": "python",
   "pygments_lexer": "ipython3",
   "version": "3.7.6"
  }
 },
 "nbformat": 4,
 "nbformat_minor": 2
}
